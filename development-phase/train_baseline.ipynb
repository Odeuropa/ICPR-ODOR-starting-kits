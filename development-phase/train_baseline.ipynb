{
 "cells": [
  {
   "cell_type": "code",
   "execution_count": 1,
   "id": "2e624f8e-7f8e-4422-8cee-98d01c42bf80",
   "metadata": {},
   "outputs": [],
   "source": [
    "from icevision.all import *\n",
    "import os"
   ]
  },
  {
   "cell_type": "code",
   "execution_count": 9,
   "id": "78ee1a69-2d0f-4d59-a736-a865d3964c0f",
   "metadata": {},
   "outputs": [],
   "source": [
    "# specify image directory and annotations filepath\n",
    "annotations_pth = 'data/annotations_train.json'\n",
    "filtered_annotations_pth = 'data/annotations_filtered.json'\n",
    "images_dir = 'data/images'"
   ]
  },
  {
   "cell_type": "code",
   "execution_count": 10,
   "id": "153fa202-7e9a-495f-8b72-e0920da322ba",
   "metadata": {},
   "outputs": [
    {
     "name": "stderr",
     "output_type": "stream",
     "text": [
      "100%|██████████| 2116/2116 [00:07<00:00, 276.26it/s]\n"
     ]
    },
    {
     "name": "stdout",
     "output_type": "stream",
     "text": [
      "1 images not found. Removing from annotations.\n"
     ]
    }
   ],
   "source": [
    "from PIL import Image\n",
    "from tqdm import tqdm\n",
    "# remove images that can not be downloaded or opened\n",
    "with open(annotations_pth) as f:\n",
    "    coco = json.load(f)\n",
    "\n",
    "remove_ids = []\n",
    "\n",
    "for img in tqdm(coco['images']):\n",
    "    try:\n",
    "        Image.open(f'{images_dir}/{img[\"file_name\"]}').load()\n",
    "    except OSError:\n",
    "        remove_ids.append(img['id'])\n",
    "\n",
    "imgs_filtered = [img for img in coco['images'] if img['id'] not in remove_ids]\n",
    "\n",
    "anns_filtered = [ann for ann in coco['annotations'] if ann['image_id'] not in remove_ids]\n",
    "\n",
    "print(f'{len(remove_ids)} images could not be loaded. Removing from annotations.')\n",
    "\n",
    "\n",
    "coco['images'] = imgs_filtered\n",
    "coco['annotations'] = anns_filtered\n",
    "\n",
    "\n",
    "with open(filtered_annotations_pth, 'w') as f:\n",
    "    json.dump(coco,f) "
   ]
  },
  {
   "cell_type": "code",
   "execution_count": 11,
   "id": "5b440488-ade8-4b18-ac45-dba522a19c2d",
   "metadata": {},
   "outputs": [],
   "source": [
    "parser = parsers.COCOBBoxParser(annotations_filepath = filtered_annotations_pth, img_dir = images_dir)"
   ]
  },
  {
   "cell_type": "code",
   "execution_count": 12,
   "id": "7600e29b-5c2e-4342-8639-a16f6b45403e",
   "metadata": {},
   "outputs": [
    {
     "data": {
      "application/vnd.jupyter.widget-view+json": {
       "model_id": "0469a947dd4e427f9e3cbe15868602f1",
       "version_major": 2,
       "version_minor": 0
      },
      "text/plain": [
       "  0%|          | 0/15482 [00:00<?, ?it/s]"
      ]
     },
     "metadata": {},
     "output_type": "display_data"
    },
    {
     "name": "stderr",
     "output_type": "stream",
     "text": [
      "\u001b[1m\u001b[1mINFO    \u001b[0m\u001b[1m\u001b[0m - \u001b[1m\u001b[34m\u001b[1mAutofixing records\u001b[0m\u001b[1m\u001b[34m\u001b[0m\u001b[1m\u001b[0m | \u001b[36micevision.parsers.parser\u001b[0m:\u001b[36mparse\u001b[0m:\u001b[36m136\u001b[0m\n"
     ]
    },
    {
     "data": {
      "application/vnd.jupyter.widget-view+json": {
       "model_id": "5d1178eaae86459a874d2f634a8b3869",
       "version_major": 2,
       "version_minor": 0
      },
      "text/plain": [
       "  0%|          | 0/1692 [00:00<?, ?it/s]"
      ]
     },
     "metadata": {},
     "output_type": "display_data"
    },
    {
     "data": {
      "application/vnd.jupyter.widget-view+json": {
       "model_id": "4e5197324b2a46aa8d61fe4abcc27761",
       "version_major": 2,
       "version_minor": 0
      },
      "text/plain": [
       "  0%|          | 0/423 [00:00<?, ?it/s]"
      ]
     },
     "metadata": {},
     "output_type": "display_data"
    }
   ],
   "source": [
    "# parse annotations\n",
    "train_records, valid_records = parser.parse()"
   ]
  },
  {
   "cell_type": "code",
   "execution_count": 13,
   "id": "7d053fa1-d5f4-4952-b0ee-56db05ab5409",
   "metadata": {},
   "outputs": [],
   "source": [
    "# define image size and transformations, adapt as you like\n",
    "image_size = 384\n",
    "train_tfms = tfms.A.Adapter([*tfms.A.aug_tfms(size=image_size, presize=768), tfms.A.Normalize()])\n",
    "valid_tfms = tfms.A.Adapter([*tfms.A.resize_and_pad(image_size), tfms.A.Normalize()])"
   ]
  },
  {
   "cell_type": "code",
   "execution_count": 14,
   "id": "4b57fe1e-6f1e-4993-851e-3477d2425467",
   "metadata": {},
   "outputs": [],
   "source": [
    "# load datasets\n",
    "train_ds = Dataset(train_records, train_tfms)\n",
    "valid_ds = Dataset(valid_records, valid_tfms)"
   ]
  },
  {
   "cell_type": "code",
   "execution_count": 15,
   "id": "ed0b74ec-6f25-490f-8256-66a00efe05d1",
   "metadata": {},
   "outputs": [
    {
     "name": "stdout",
     "output_type": "stream",
     "text": [
      "Model ready\n"
     ]
    }
   ],
   "source": [
    "# create baseline model\n",
    "import torch\n",
    "import torchvision\n",
    "from icevision import models\n",
    "\n",
    "# Run the model on GPU if it is available\n",
    "device = torch.device(\"cuda:0\" if torch.cuda.is_available() else \"cpu\")\n",
    "\n",
    "# Load a pre-trained Faster R-CNN model\n",
    "model_type = models.torchvision.faster_rcnn\n",
    "model = model_type.model(num_classes=len(parser.class_map))\n",
    "\n",
    "model.to(device)\n",
    "\n",
    "print(\"Model ready\")"
   ]
  },
  {
   "cell_type": "code",
   "execution_count": 16,
   "id": "72c69db2-206b-4b4e-a5f7-1b3074efe27e",
   "metadata": {},
   "outputs": [],
   "source": [
    "# Create data Loaders\n",
    "train_dl = model_type.train_dl(train_ds, batch_size=16, num_workers=4, shuffle=True)\n",
    "valid_dl = model_type.valid_dl(valid_ds, batch_size=16, num_workers=4, shuffle=False)"
   ]
  },
  {
   "cell_type": "code",
   "execution_count": 17,
   "id": "a07ba096-f4e7-435a-9189-78317316a14e",
   "metadata": {},
   "outputs": [],
   "source": [
    "# Create fastai learner\n",
    "metrics = [COCOMetric(metric_type=COCOMetricType.bbox)]\n",
    "learn = model_type.fastai.learner(dls=[train_dl, valid_dl], model=model, metrics=metrics)"
   ]
  },
  {
   "cell_type": "code",
   "execution_count": 18,
   "id": "d631913c-835c-46b4-a038-3a03a3359f05",
   "metadata": {
    "tags": []
   },
   "outputs": [
    {
     "data": {
      "text/html": [],
      "text/plain": [
       "<IPython.core.display.HTML object>"
      ]
     },
     "metadata": {},
     "output_type": "display_data"
    },
    {
     "data": {
      "text/plain": [
       "SuggestedLRs(lr_min=0.0002511886414140463, lr_steep=4.365158383734524e-05)"
      ]
     },
     "execution_count": 18,
     "metadata": {},
     "output_type": "execute_result"
    },
    {
     "data": {
      "image/png": "[encoded data removed]",
      "text/plain": [
       "<Figure size 432x288 with 1 Axes>"
      ]
     },
     "metadata": {
      "needs_background": "light"
     },
     "output_type": "display_data"
    }
   ],
   "source": [
    "# determine optimal learning rate\n",
    "learn.lr_find()"
   ]
  },
  {
   "cell_type": "code",
   "execution_count": 19,
   "id": "e923b95a-96ec-4f5e-95b0-d4dbda2e0a61",
   "metadata": {},
   "outputs": [
    {
     "data": {
      "text/html": [
       "<table border=\"1\" class=\"dataframe\">\n",
       "  <thead>\n",
       "    <tr style=\"text-align: left;\">\n",
       "      <th>epoch</th>\n",
       "      <th>train_loss</th>\n",
       "      <th>valid_loss</th>\n",
       "      <th>COCOMetric</th>\n",
       "      <th>time</th>\n",
       "    </tr>\n",
       "  </thead>\n",
       "  <tbody>\n",
       "    <tr>\n",
       "      <td>0</td>\n",
       "      <td>2.033779</td>\n",
       "      <td>1.627415</td>\n",
       "      <td>0.011875</td>\n",
       "      <td>00:42</td>\n",
       "    </tr>\n",
       "  </tbody>\n",
       "</table>"
      ],
      "text/plain": [
       "<IPython.core.display.HTML object>"
      ]
     },
     "metadata": {},
     "output_type": "display_data"
    },
    {
     "data": {
      "text/html": [
       "<table border=\"1\" class=\"dataframe\">\n",
       "  <thead>\n",
       "    <tr style=\"text-align: left;\">\n",
       "      <th>epoch</th>\n",
       "      <th>train_loss</th>\n",
       "      <th>valid_loss</th>\n",
       "      <th>COCOMetric</th>\n",
       "      <th>time</th>\n",
       "    </tr>\n",
       "  </thead>\n",
       "  <tbody>\n",
       "    <tr>\n",
       "      <td>0</td>\n",
       "      <td>0.998742</td>\n",
       "      <td>0.881373</td>\n",
       "      <td>0.028791</td>\n",
       "      <td>01:03</td>\n",
       "    </tr>\n",
       "  </tbody>\n",
       "</table>"
      ],
      "text/plain": [
       "<IPython.core.display.HTML object>"
      ]
     },
     "metadata": {},
     "output_type": "display_data"
    }
   ],
   "source": [
    "# use learning rate from above to start training\n",
    "# freeze epochs to initially train the head only (empirically gives better results)\n",
    "lr = 1e-3\n",
    "learn.fine_tune(1, lr, freeze_epochs=1)"
   ]
  },
  {
   "cell_type": "code",
   "execution_count": 12,
   "id": "c25157cc-817a-4eef-9387-23a234d5a237",
   "metadata": {},
   "outputs": [
    {
     "data": {
      "text/html": [
       "<table border=\"1\" class=\"dataframe\">\n",
       "  <thead>\n",
       "    <tr style=\"text-align: left;\">\n",
       "      <th>epoch</th>\n",
       "      <th>train_loss</th>\n",
       "      <th>valid_loss</th>\n",
       "      <th>COCOMetric</th>\n",
       "      <th>time</th>\n",
       "    </tr>\n",
       "  </thead>\n",
       "  <tbody>\n",
       "    <tr>\n",
       "      <td>0</td>\n",
       "      <td>0.467502</td>\n",
       "      <td>0.805629</td>\n",
       "      <td>0.099184</td>\n",
       "      <td>02:31</td>\n",
       "    </tr>\n",
       "    <tr>\n",
       "      <td>1</td>\n",
       "      <td>0.473283</td>\n",
       "      <td>0.807095</td>\n",
       "      <td>0.098537</td>\n",
       "      <td>02:32</td>\n",
       "    </tr>\n",
       "    <tr>\n",
       "      <td>2</td>\n",
       "      <td>0.487323</td>\n",
       "      <td>0.812551</td>\n",
       "      <td>0.101269</td>\n",
       "      <td>02:32</td>\n",
       "    </tr>\n",
       "    <tr>\n",
       "      <td>3</td>\n",
       "      <td>0.465229</td>\n",
       "      <td>0.811590</td>\n",
       "      <td>0.100632</td>\n",
       "      <td>02:32</td>\n",
       "    </tr>\n",
       "    <tr>\n",
       "      <td>4</td>\n",
       "      <td>0.463997</td>\n",
       "      <td>0.810149</td>\n",
       "      <td>0.100923</td>\n",
       "      <td>02:33</td>\n",
       "    </tr>\n",
       "  </tbody>\n",
       "</table>"
      ],
      "text/plain": [
       "<IPython.core.display.HTML object>"
      ]
     },
     "metadata": {},
     "output_type": "display_data"
    }
   ],
   "source": [
    "# continue training \n",
    "# repeat any number of times until convergence, possibly adapt (decrease) learning rate\n",
    "lr = 1e-4\n",
    "learn.fine_tune(5, lr, freeze_epochs=0)"
   ]
  },
  {
   "cell_type": "code",
   "execution_count": 48,
   "id": "4f46609a-34df-4251-896b-18e9efe4d7fa",
   "metadata": {},
   "outputs": [
    {
     "data": {
      "text/plain": [
       "Path('models/baseline_model.pth')"
      ]
     },
     "execution_count": 48,
     "metadata": {},
     "output_type": "execute_result"
    }
   ],
   "source": [
    "# save the model\n",
    "learn.save('baseline_model')"
   ]
  }
 ],
 "metadata": {
  "kernelspec": {
   "display_name": "Python 3",
   "language": "python",
   "name": "python3"
  },
  "language_info": {
   "codemirror_mode": {
    "name": "ipython",
    "version": 3
   },
   "file_extension": ".py",
   "mimetype": "text/x-python",
   "name": "python",
   "nbconvert_exporter": "python",
   "pygments_lexer": "ipython3",
   "version": "3.9.12"
  }
 },
 "nbformat": 4,
 "nbformat_minor": 5
}
